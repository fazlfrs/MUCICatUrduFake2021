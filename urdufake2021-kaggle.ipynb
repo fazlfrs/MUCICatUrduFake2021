{
 "cells": [
  {
   "cell_type": "code",
   "execution_count": null,
   "metadata": {
    "execution": {
     "iopub.execute_input": "2021-09-20T01:26:09.512582Z",
     "iopub.status.busy": "2021-09-20T01:26:09.512325Z",
     "iopub.status.idle": "2021-09-20T01:30:55.190345Z",
     "shell.execute_reply": "2021-09-20T01:30:55.189549Z",
     "shell.execute_reply.started": "2021-09-20T01:26:09.512519Z"
    }
   },
   "outputs": [],
   "source": [
    "!pip install flair==0.4.2\n",
    "!pip install torch==1.1.0\n",
    "\n"
   ]
  },
  {
   "cell_type": "code",
   "execution_count": null,
   "metadata": {
    "execution": {
     "iopub.execute_input": "2021-09-21T02:18:07.086444Z",
     "iopub.status.busy": "2021-09-21T02:18:07.086078Z",
     "iopub.status.idle": "2021-09-21T02:18:07.092601Z",
     "shell.execute_reply": "2021-09-21T02:18:07.0919Z",
     "shell.execute_reply.started": "2021-09-21T02:18:07.086408Z"
    }
   },
   "outputs": [],
   "source": [
    "import pandas as pd\n",
    "import os\n",
    "import glob"
   ]
  },
  {
   "cell_type": "code",
   "execution_count": null,
   "metadata": {
    "execution": {
     "iopub.execute_input": "2021-09-21T02:18:23.012578Z",
     "iopub.status.busy": "2021-09-21T02:18:23.01232Z",
     "iopub.status.idle": "2021-09-21T02:18:23.632106Z",
     "shell.execute_reply": "2021-09-21T02:18:23.631428Z",
     "shell.execute_reply.started": "2021-09-21T02:18:23.012551Z"
    }
   },
   "outputs": [],
   "source": [
    "def load_data(file):\n",
    "    fadir = '../input/urdufake2021/Training DatasetFIRE2021/Training Dataset@FIRE2021/'+file+'/Fake'\n",
    "    redir = '../input/urdufake2021/Training DatasetFIRE2021/Training Dataset@FIRE2021/'+file+'/Real'\n",
    "\n",
    "\n",
    "    txt_fake = os.path.join(fadir, '*.txt')\n",
    "    txt_real = os.path.join(redir, '*.txt')\n",
    "\n",
    "    fake=[]\n",
    "    real=[]\n",
    "    for txt_file in glob.glob(txt_fake):\n",
    "        txt=open(txt_file,'r').read().replace('\\n','')\n",
    "        fake.append(txt[:500])\n",
    "    for txt_file in glob.glob(txt_real):\n",
    "        txt=open(txt_file,'r').read().replace('\\n','')\n",
    "        real.append(txt[:500])\n",
    "    \n",
    "    fdf=pd.DataFrame()\n",
    "    fdf['news']=fake\n",
    "    fdf['label']='fake'\n",
    "\n",
    "    rdf=pd.DataFrame()\n",
    "    rdf['news']=real\n",
    "    rdf['label']='real'\n",
    "    data=pd.DataFrame()\n",
    "    \n",
    "    news=list(fdf['news'])+list(rdf['news'])\n",
    "    lbl=list(fdf['label'])+list(rdf['label'])\n",
    "    data['news']=news\n",
    "    data['label']=lbl\n",
    "    return data\n",
    "\n",
    "train=load_data('Train')\n",
    "dev=load_data('Test')"
   ]
  },
  {
   "cell_type": "code",
   "execution_count": null,
   "metadata": {
    "execution": {
     "iopub.execute_input": "2021-09-21T02:18:25.235184Z",
     "iopub.status.busy": "2021-09-21T02:18:25.234523Z",
     "iopub.status.idle": "2021-09-21T02:18:25.252361Z",
     "shell.execute_reply": "2021-09-21T02:18:25.251523Z",
     "shell.execute_reply.started": "2021-09-21T02:18:25.235146Z"
    }
   },
   "outputs": [],
   "source": [
    "train.head()"
   ]
  },
  {
   "cell_type": "code",
   "execution_count": null,
   "metadata": {},
   "outputs": [],
   "source": []
  },
  {
   "cell_type": "code",
   "execution_count": null,
   "metadata": {
    "execution": {
     "iopub.execute_input": "2021-09-20T01:31:00.512323Z",
     "iopub.status.busy": "2021-09-20T01:31:00.512005Z",
     "iopub.status.idle": "2021-09-20T01:31:02.22579Z",
     "shell.execute_reply": "2021-09-20T01:31:02.224933Z",
     "shell.execute_reply.started": "2021-09-20T01:31:00.512289Z"
    }
   },
   "outputs": [],
   "source": [
    "data1 = pd.DataFrame()\n",
    "data1['label']=train.label\n",
    "data1['text']=train.news\n",
    "data1.head()"
   ]
  },
  {
   "cell_type": "code",
   "execution_count": null,
   "metadata": {
    "execution": {
     "iopub.execute_input": "2021-09-20T01:31:02.227629Z",
     "iopub.status.busy": "2021-09-20T01:31:02.227267Z",
     "iopub.status.idle": "2021-09-20T01:31:02.277163Z",
     "shell.execute_reply": "2021-09-20T01:31:02.276554Z",
     "shell.execute_reply.started": "2021-09-20T01:31:02.227593Z"
    }
   },
   "outputs": [],
   "source": [
    " \n",
    "data1['label'] = '__label__' + data1['label'].astype(str)\n",
    "data1.to_csv('train.txt', sep='\\t', index = False, header = False)\n"
   ]
  },
  {
   "cell_type": "code",
   "execution_count": null,
   "metadata": {
    "execution": {
     "iopub.execute_input": "2021-09-20T01:31:02.278505Z",
     "iopub.status.busy": "2021-09-20T01:31:02.278221Z",
     "iopub.status.idle": "2021-09-20T01:31:02.290996Z",
     "shell.execute_reply": "2021-09-20T01:31:02.290136Z",
     "shell.execute_reply.started": "2021-09-20T01:31:02.27847Z"
    }
   },
   "outputs": [],
   "source": [
    "test1 = pd.DataFrame()\n",
    "test1['label']=dev.label\n",
    "test1['text']=dev.news\n",
    "test1.head()"
   ]
  },
  {
   "cell_type": "code",
   "execution_count": null,
   "metadata": {
    "execution": {
     "iopub.execute_input": "2021-09-20T01:31:02.292673Z",
     "iopub.status.busy": "2021-09-20T01:31:02.292344Z",
     "iopub.status.idle": "2021-09-20T01:31:02.307895Z",
     "shell.execute_reply": "2021-09-20T01:31:02.307276Z",
     "shell.execute_reply.started": "2021-09-20T01:31:02.292639Z"
    }
   },
   "outputs": [],
   "source": [
    " \n",
    "test1['label'] = '__label__' + test1['label'].astype(str)\n",
    "test1.to_csv('dev.txt', sep='\\t', index = False, header = False)\n"
   ]
  },
  {
   "cell_type": "code",
   "execution_count": null,
   "metadata": {
    "execution": {
     "iopub.execute_input": "2021-09-20T01:31:02.30928Z",
     "iopub.status.busy": "2021-09-20T01:31:02.309031Z",
     "iopub.status.idle": "2021-09-20T01:31:02.322764Z",
     "shell.execute_reply": "2021-09-20T01:31:02.321877Z",
     "shell.execute_reply.started": "2021-09-20T01:31:02.309249Z"
    }
   },
   "outputs": [],
   "source": [
    "import argparse\n",
    "from typing import Tuple\n",
    "from pathlib import Path\n",
    "\n",
    "\n",
    "def trainer(file_path: Path,\n",
    "            filenames: Tuple[str, str, str],\n",
    "            checkpoint: str,\n",
    "            stack: str,\n",
    "            n_epochs: int) -> None:\n",
    "    \"\"\"Train sentiment model using Flair NLP library:\n",
    "    https://github.com/zalandoresearch/flair/blob/master/resources/docs/TUTORIAL_7_TRAINING_A_MODEL.md\n",
    "    To help provide added context, we can stack Glove, Bert or ELMo embeddings along with Flair embeddings.\n",
    "    \"\"\"\n",
    "        # pip install flair allennlp\n",
    "    from flair.datasets import ClassificationCorpus\n",
    "    from flair.embeddings import FlairEmbeddings, DocumentRNNEmbeddings\n",
    "    from flair.models import TextClassifier\n",
    "    from flair.trainers import ModelTrainer\n",
    "    from flair.training_utils import EvaluationMetric\n",
    "    from flair.visual.training_curves import Plotter\n",
    "\n",
    "    if stack == \"glove\":\n",
    "        from flair.embeddings import WordEmbeddings\n",
    "        stacked_embedding = WordEmbeddings('glove')\n",
    "    elif stack == \"elmo\":\n",
    "        from flair.embeddings import ELMoEmbeddings\n",
    "        stacked_embedding = ELMoEmbeddings('original')\n",
    "    elif stack == \"bert\":\n",
    "        from flair.embeddings import BertEmbeddings\n",
    "        stacked_embedding = BertEmbeddings('bert-base-multilingual-cased')\n",
    "    else:\n",
    "        stacked_embedding = None\n",
    "\n",
    "    # Define and Load corpus from the provided dataset\n",
    "    train, dev, test = filenames\n",
    "    corpus = ClassificationCorpus(\n",
    "        file_path,\n",
    "        train_file=train,\n",
    "        dev_file=dev,\n",
    "        test_file=test,\n",
    "    )\n",
    "    # Create label dictionary from provided labels in data\n",
    "    label_dict = corpus.make_label_dictionary()\n",
    "\n",
    "    # Stack Flair string-embeddings with optional embeddings\n",
    "    word_embeddings = list(filter(None, [\n",
    "        stacked_embedding\n",
    "    ]))\n",
    "    # Initialize document embedding by passing list of word embeddings\n",
    "    document_embeddings = DocumentRNNEmbeddings(\n",
    "        word_embeddings,\n",
    "        hidden_size=512,\n",
    "        reproject_words=True,\n",
    "        reproject_words_dimension=256,\n",
    "    )\n",
    "    # Define classifier\n",
    "    classifier = TextClassifier(\n",
    "        document_embeddings,\n",
    "        label_dictionary=label_dict,\n",
    "        multi_label=False\n",
    "    )\n",
    "\n",
    "    if not checkpoint:\n",
    "        trainer = ModelTrainer(classifier, corpus)\n",
    "    else:\n",
    "        # If checkpoint file is defined, resume training\n",
    "        checkpoint = classifier.load_checkpoint(Path(checkpoint))\n",
    "        trainer = ModelTrainer.load_from_checkpoint(checkpoint, corpus)\n",
    "\n",
    "    # Begin training (enable checkpointing to continue training at a later time, if desired)\n",
    "    trainer.train(\n",
    "        file_path,\n",
    "        EvaluationMetric.MACRO_F1_SCORE,\n",
    "        max_epochs=n_epochs,\n",
    "        checkpoint=True\n",
    "    )\n",
    "\n",
    "    # Plot curves and store weights and losses\n",
    "    plotter = Plotter()\n",
    "    plotter.plot_training_curves(file_path / 'loss.tsv')\n",
    "    plotter.plot_weights(file_path / 'weights.txt')\n",
    "\n"
   ]
  },
  {
   "cell_type": "code",
   "execution_count": null,
   "metadata": {
    "execution": {
     "iopub.execute_input": "2021-09-20T01:31:02.325332Z",
     "iopub.status.busy": "2021-09-20T01:31:02.325044Z",
     "iopub.status.idle": "2021-09-20T01:31:02.333534Z",
     "shell.execute_reply": "2021-09-20T01:31:02.332864Z",
     "shell.execute_reply.started": "2021-09-20T01:31:02.325298Z"
    }
   },
   "outputs": [],
   "source": [
    "#!mkdir './ckp'"
   ]
  },
  {
   "cell_type": "code",
   "execution_count": null,
   "metadata": {
    "execution": {
     "iopub.execute_input": "2021-09-20T01:31:02.336003Z",
     "iopub.status.busy": "2021-09-20T01:31:02.335794Z"
    }
   },
   "outputs": [],
   "source": [
    "filepath = Path('./')\n",
    "filenames = ('train.txt', 'dev.txt', 'dev.txt')\n",
    "trainer(filepath, filenames, None, stack='bert', n_epochs=5)\n",
    "\n"
   ]
  },
  {
   "cell_type": "code",
   "execution_count": null,
   "metadata": {},
   "outputs": [],
   "source": []
  },
  {
   "cell_type": "code",
   "execution_count": 2,
   "metadata": {
    "execution": {
     "iopub.execute_input": "2021-09-21T22:07:58.990779Z",
     "iopub.status.busy": "2021-09-21T22:07:58.990516Z",
     "iopub.status.idle": "2021-09-21T22:08:00.434109Z",
     "shell.execute_reply": "2021-09-21T22:08:00.433383Z",
     "shell.execute_reply.started": "2021-09-21T22:07:58.990752Z"
    }
   },
   "outputs": [],
   "source": [
    "import os\n",
    "import numpy\n",
    "import pandas as pd\n",
    "import re\n",
    "import glob\n",
    "from nltk.tokenize import word_tokenize\n",
    "from nltk import FreqDist\n",
    "from nltk import trigrams\n",
    "from nltk import bigrams\n",
    "from nltk import ngrams\n",
    "from nltk.collections import defaultdict\n",
    "from nltk.classify.scikitlearn import SklearnClassifier\n",
    "from sklearn.linear_model import LogisticRegression\n",
    "from gensim.models import KeyedVectors\n",
    "from collections import Counter \n",
    "from nltk.classify.util import accuracy\n",
    "from sklearn.metrics import precision_score, recall_score, f1_score, classification_report,accuracy_score\n",
    "import warnings\n",
    "import pandas as pd\n",
    "import nltk\n",
    "import gensim\n",
    "import collections\n",
    "warnings.filterwarnings('ignore')"
   ]
  },
  {
   "cell_type": "code",
   "execution_count": 14,
   "metadata": {
    "execution": {
     "iopub.execute_input": "2021-09-21T22:23:51.430887Z",
     "iopub.status.busy": "2021-09-21T22:23:51.430627Z",
     "iopub.status.idle": "2021-09-21T22:23:52.003464Z",
     "shell.execute_reply": "2021-09-21T22:23:52.002721Z",
     "shell.execute_reply.started": "2021-09-21T22:23:51.430859Z"
    }
   },
   "outputs": [],
   "source": [
    "def load_data(file):\n",
    "    fadir = '../input/urdufake2021/Training DatasetFIRE2021/Training Dataset@FIRE2021/'+file+'/Fake'\n",
    "    redir = '../input/urdufake2021/Training DatasetFIRE2021/Training Dataset@FIRE2021/'+file+'/Real'\n",
    "\n",
    "\n",
    "    txt_fake = os.path.join(fadir, '*.txt')\n",
    "    txt_real = os.path.join(redir, '*.txt')\n",
    "\n",
    "    fake=[]\n",
    "    real=[]\n",
    "    for txt_file in glob.glob(txt_fake):\n",
    "        txt=open(txt_file,'r').read().replace('\\n','')\n",
    "        fake.append(txt)\n",
    "    for txt_file in glob.glob(txt_real):\n",
    "        txt=open(txt_file,'r').read().replace('\\n','')\n",
    "        real.append(txt)\n",
    "    \n",
    "    fdf=pd.DataFrame()\n",
    "    fdf['news']=fake\n",
    "    fdf['label']='F'\n",
    "\n",
    "    rdf=pd.DataFrame()\n",
    "    rdf['news']=real\n",
    "    rdf['label']='R'\n",
    "    data=pd.DataFrame()\n",
    "    \n",
    "    news=list(fdf['news'])+list(rdf['news'])\n",
    "    lbl=list(fdf['label'])+list(rdf['label'])\n",
    "    data['news']=news\n",
    "    data['label']=lbl\n",
    "    return data\n",
    "\n",
    "data=load_data('Train')\n",
    "test=load_data('Test')"
   ]
  },
  {
   "cell_type": "code",
   "execution_count": 15,
   "metadata": {
    "execution": {
     "iopub.execute_input": "2021-09-21T22:23:52.256472Z",
     "iopub.status.busy": "2021-09-21T22:23:52.256225Z",
     "iopub.status.idle": "2021-09-21T22:23:52.446609Z",
     "shell.execute_reply": "2021-09-21T22:23:52.445937Z",
     "shell.execute_reply.started": "2021-09-21T22:23:52.256447Z"
    }
   },
   "outputs": [],
   "source": [
    "def clean_text(text):\n",
    "    stopwords=[]#open('/home/fazl/Desktop/FIRE2020/Urdu/urdu_stopwords.txt').read().split('\\n')\n",
    "    unwanted=['ـ','_','\"','！',\"'\",'=','@','&','%','.',',',':','\\\\','$','^','<','>','!','?','{','}',';','\\n','\\t','(',')','[',']','/','*','+','#','\\u200c','\\ufeff','-','_','|']\n",
    "    \n",
    "    for i in unwanted:\n",
    "        text = text.replace(i,'')\n",
    "    sent=[]\n",
    "    text=text.split(' ')\n",
    "    for word in text:\n",
    "        if word not in stopwords and len(word)>=2:\n",
    "            sent.append(word)\n",
    "    return ' '.join(sent).strip()\n",
    "\n",
    "data['news']=data['news'].apply(lambda x:clean_text(x))\n",
    "test['news']=test['news'].apply(lambda x:clean_text(x))\n"
   ]
  },
  {
   "cell_type": "code",
   "execution_count": 16,
   "metadata": {
    "execution": {
     "iopub.execute_input": "2021-09-21T22:23:53.292995Z",
     "iopub.status.busy": "2021-09-21T22:23:53.292720Z",
     "iopub.status.idle": "2021-09-21T22:23:53.480637Z",
     "shell.execute_reply": "2021-09-21T22:23:53.480003Z",
     "shell.execute_reply.started": "2021-09-21T22:23:53.292965Z"
    }
   },
   "outputs": [],
   "source": [
    "def load_test(path):\n",
    "    txt_files = glob.glob(path+'/*.txt')\n",
    "    #print('files :', txt_files)\n",
    "\n",
    "    data=[]\n",
    "    ids=[]\n",
    "    for jf in txt_files:\n",
    "        file=open(jf).read().replace('\\n', ' ')\n",
    "        data.append(clean_text(file))\n",
    "        ids.append(jf.split('/')[-1].split('.')[0])\n",
    "\n",
    "            \n",
    "    return data,ids\n",
    "    \n",
    "\n",
    "submission=pd.DataFrame()\n",
    "txxt,ids=load_test('../input/urdufake2021/Test Dataset  FIRE 2021/Test Dataset/')\n",
    "submission['text']=txxt\n",
    "submission['File No']=ids\n",
    "print(len(submission))\n",
    "submission.head()"
   ]
  },
  {
   "cell_type": "code",
   "execution_count": 17,
   "metadata": {
    "execution": {
     "iopub.execute_input": "2021-09-21T22:23:56.688716Z",
     "iopub.status.busy": "2021-09-21T22:23:56.688170Z",
     "iopub.status.idle": "2021-09-21T22:23:56.696377Z",
     "shell.execute_reply": "2021-09-21T22:23:56.695506Z",
     "shell.execute_reply.started": "2021-09-21T22:23:56.688681Z"
    }
   },
   "outputs": [],
   "source": [
    "from sklearn import model_selection, preprocessing, metrics, svm\n",
    "from sklearn.feature_extraction.text import CountVectorizer\n",
    "from sklearn import decomposition, ensemble\n",
    "\n",
    "import pandas as pd\n",
    "import numpy as np\n",
    "\n",
    "import string\n",
    "\n",
    "import matplotlib.pyplot as plt\n",
    "import seaborn as sns\n",
    "%matplotlib inline\n",
    "\n",
    "import xgboost\n",
    "#from keras.preprocessing import text, sequence\n",
    "#from keras import layers, models, optimizers\n",
    "from sklearn.feature_extraction.text import CountVectorizer,TfidfVectorizer,HashingVectorizer\n",
    "\n"
   ]
  },
  {
   "cell_type": "code",
   "execution_count": 18,
   "metadata": {
    "execution": {
     "iopub.execute_input": "2021-09-21T22:23:58.696348Z",
     "iopub.status.busy": "2021-09-21T22:23:58.696084Z",
     "iopub.status.idle": "2021-09-21T22:24:15.779634Z",
     "shell.execute_reply": "2021-09-21T22:24:15.778810Z",
     "shell.execute_reply.started": "2021-09-21T22:23:58.696322Z"
    }
   },
   "outputs": [],
   "source": [
    "sentences=list(data.news)\n",
    "from scipy.sparse import hstack\n",
    "word_vectorizer = TfidfVectorizer(\n",
    "    sublinear_tf=True,\n",
    "    strip_accents='unicode',\n",
    "    analyzer='word',\n",
    "    ngram_range=(1, 3),\n",
    "    max_features=30000)\n",
    "word_vectorizer.fit(sentences)\n",
    "\n",
    "char_vectorizer = TfidfVectorizer(\n",
    "    sublinear_tf=True,\n",
    "    strip_accents='unicode',\n",
    "    analyzer='char',\n",
    "    ngram_range=(2, 5),\n",
    "    max_features=30000)\n",
    "char_vectorizer.fit(sentences)\n",
    "\n",
    "\n",
    "'''sn_vectorizer = TfidfVectorizer(\n",
    "    sublinear_tf=True,\n",
    "    strip_accents='unicode',\n",
    "    analyzer=get_sngrams,\n",
    "    \n",
    "    max_features=40000)\n",
    "sn_vectorizer.fit(sentences)'''\n",
    "\n",
    "\n",
    "train_word_features = word_vectorizer.transform(data.news)\n",
    "test_word_features = word_vectorizer.transform(test.news)\n",
    "\n",
    "train_char_features = char_vectorizer.transform(data.news)\n",
    "test_char_features = char_vectorizer.transform(test.news)\n",
    "\n",
    "'''train_sn_features = sn_vectorizer.transform(train_en.cleaned)\n",
    "test_sn_features = sn_vectorizer.transform(test_en.cleaned)'''\n",
    "\n",
    "\n",
    "x_train = hstack([train_char_features, train_word_features])#,train_sn_features])\n",
    "x_test = hstack([test_char_features, test_word_features])#,test_sn_features])\n",
    "\n",
    "y_train=data.label\n",
    "y_test=test.label"
   ]
  },
  {
   "cell_type": "code",
   "execution_count": 19,
   "metadata": {
    "execution": {
     "iopub.execute_input": "2021-09-21T22:24:15.781372Z",
     "iopub.status.busy": "2021-09-21T22:24:15.781144Z",
     "iopub.status.idle": "2021-09-21T22:24:17.524622Z",
     "shell.execute_reply": "2021-09-21T22:24:17.523863Z",
     "shell.execute_reply.started": "2021-09-21T22:24:15.781343Z"
    }
   },
   "outputs": [],
   "source": [
    "sub_word_features = word_vectorizer.transform(submission.text)\n",
    "sub_char_features = char_vectorizer.transform(submission.text)\n",
    "x_sub = hstack([sub_char_features, sub_word_features])#,test_sn_features])\n"
   ]
  },
  {
   "cell_type": "code",
   "execution_count": 20,
   "metadata": {
    "execution": {
     "iopub.execute_input": "2021-09-21T22:24:22.828564Z",
     "iopub.status.busy": "2021-09-21T22:24:22.827856Z",
     "iopub.status.idle": "2021-09-21T22:24:24.322754Z",
     "shell.execute_reply": "2021-09-21T22:24:24.322022Z",
     "shell.execute_reply.started": "2021-09-21T22:24:22.828529Z"
    }
   },
   "outputs": [],
   "source": [
    "from sklearn.ensemble import VotingClassifier\n",
    "from sklearn.linear_model import LogisticRegression\n",
    "from sklearn.svm import LinearSVC,SVC\n",
    "from sklearn.metrics import accuracy_score, confusion_matrix, classification_report, f1_score\n",
    "\n",
    "\n",
    "lr=LogisticRegression(C=20)\n",
    "lr.fit(x_train, y_train)\n",
    "y_pred = lr.predict(x_test) \n",
    "print(classification_report(y_test, y_pred,digits=4))"
   ]
  },
  {
   "cell_type": "code",
   "execution_count": 22,
   "metadata": {
    "execution": {
     "iopub.execute_input": "2021-09-21T22:25:31.803748Z",
     "iopub.status.busy": "2021-09-21T22:25:31.803488Z",
     "iopub.status.idle": "2021-09-21T22:25:31.893662Z",
     "shell.execute_reply": "2021-09-21T22:25:31.892846Z",
     "shell.execute_reply.started": "2021-09-21T22:25:31.803720Z"
    }
   },
   "outputs": [],
   "source": [
    "s_pred = lr.predict(x_sub)\n",
    "submission['Real/Fake']=s_pred\n",
    "print(submission['Real/Fake'].value_counts())\n",
    "sub1=submission.drop('text',1)\n",
    "submission=submission.drop('Real/Fake',1)\n",
    "print(sub1.head())\n",
    "sub1.to_csv('NoFS_LR_0.7881.csv',index=None)\n",
    "submission.head()"
   ]
  },
  {
   "cell_type": "code",
   "execution_count": 23,
   "metadata": {
    "execution": {
     "iopub.execute_input": "2021-09-21T22:25:50.373163Z",
     "iopub.status.busy": "2021-09-21T22:25:50.372249Z",
     "iopub.status.idle": "2021-09-21T22:27:16.944545Z",
     "shell.execute_reply": "2021-09-21T22:27:16.943799Z",
     "shell.execute_reply.started": "2021-09-21T22:25:50.373120Z"
    }
   },
   "outputs": [],
   "source": [
    "svm_clf=SVC(kernel='linear',probability=True)\n",
    "svm_clf.fit(x_train, y_train)\n",
    "y_pred = svm_clf.predict(x_test)\n",
    "print(classification_report(y_test, y_pred,digits=4))"
   ]
  },
  {
   "cell_type": "code",
   "execution_count": 24,
   "metadata": {
    "execution": {
     "iopub.execute_input": "2021-09-21T22:27:38.453342Z",
     "iopub.status.busy": "2021-09-21T22:27:38.453077Z",
     "iopub.status.idle": "2021-09-21T22:27:42.519615Z",
     "shell.execute_reply": "2021-09-21T22:27:42.518771Z",
     "shell.execute_reply.started": "2021-09-21T22:27:38.453316Z"
    }
   },
   "outputs": [],
   "source": [
    "s_pred = svm_clf.predict(x_sub)\n",
    "submission['Real/Fake']=s_pred\n",
    "print(submission['Real/Fake'].value_counts())\n",
    "sub1=submission.drop('text',1)\n",
    "submission=submission.drop('Real/Fake',1)\n",
    "print(sub1.head())\n",
    "sub1.to_csv('NoFS_LSVM_0.7990.csv',index=None)\n",
    "submission.head()"
   ]
  },
  {
   "cell_type": "code",
   "execution_count": 25,
   "metadata": {
    "execution": {
     "iopub.execute_input": "2021-09-21T22:28:01.470634Z",
     "iopub.status.busy": "2021-09-21T22:28:01.470092Z",
     "iopub.status.idle": "2021-09-21T22:28:22.759424Z",
     "shell.execute_reply": "2021-09-21T22:28:22.758663Z",
     "shell.execute_reply.started": "2021-09-21T22:28:01.470603Z"
    }
   },
   "outputs": [],
   "source": [
    "from sklearn.ensemble import RandomForestClassifier\n",
    "\n",
    "model=RandomForestClassifier(n_estimators=1000)\n",
    "model.fit(x_train, y_train)\n",
    "y_pred = model.predict(x_test)\n",
    "print(classification_report(y_test, y_pred,digits=4))"
   ]
  },
  {
   "cell_type": "code",
   "execution_count": 26,
   "metadata": {
    "execution": {
     "iopub.execute_input": "2021-09-21T22:28:54.044793Z",
     "iopub.status.busy": "2021-09-21T22:28:54.044525Z",
     "iopub.status.idle": "2021-09-21T22:28:56.288709Z",
     "shell.execute_reply": "2021-09-21T22:28:56.287908Z",
     "shell.execute_reply.started": "2021-09-21T22:28:54.044764Z"
    }
   },
   "outputs": [],
   "source": [
    "s_pred = model.predict(x_sub)\n",
    "submission['Real/Fake']=s_pred\n",
    "print(submission['Real/Fake'].value_counts())\n",
    "sub1=submission.drop('text',1)\n",
    "submission=submission.drop('Real/Fake',1)\n",
    "print(sub1.head())\n",
    "sub1.to_csv('NoFS_RFC_0.7592.csv',index=None)\n",
    "submission.head()"
   ]
  },
  {
   "cell_type": "code",
   "execution_count": 27,
   "metadata": {
    "execution": {
     "iopub.execute_input": "2021-09-21T22:29:02.770993Z",
     "iopub.status.busy": "2021-09-21T22:29:02.770722Z",
     "iopub.status.idle": "2021-09-21T22:30:47.902505Z",
     "shell.execute_reply": "2021-09-21T22:30:47.901635Z",
     "shell.execute_reply.started": "2021-09-21T22:29:02.770966Z"
    }
   },
   "outputs": [],
   "source": [
    "from sklearn.neural_network import MLPClassifier\n",
    "mlp=MLPClassifier(hidden_layer_sizes=(150,100,50), max_iter=300,activation = 'relu',solver='adam',random_state=1)# Again, dual = True. Default solver = 'liblinear'. It's recommended for smaller databases. For bigger databases, 'saga' could be used.\n",
    "mlp.fit(x_train, y_train)\n",
    "y_pred = mlp.predict(x_test)\n",
    "print(classification_report(y_test, y_pred,digits=4))"
   ]
  },
  {
   "cell_type": "code",
   "execution_count": 28,
   "metadata": {
    "execution": {
     "iopub.execute_input": "2021-09-21T22:31:11.180607Z",
     "iopub.status.busy": "2021-09-21T22:31:11.180355Z",
     "iopub.status.idle": "2021-09-21T22:31:11.344403Z",
     "shell.execute_reply": "2021-09-21T22:31:11.343669Z",
     "shell.execute_reply.started": "2021-09-21T22:31:11.180580Z"
    }
   },
   "outputs": [],
   "source": [
    "s_pred = mlp.predict(x_sub)\n",
    "submission['Real/Fake']=s_pred\n",
    "print(submission['Real/Fake'].value_counts())\n",
    "sub1=submission.drop('text',1)\n",
    "submission=submission.drop('Real/Fake',1)\n",
    "print(sub1.head())\n",
    "sub1.to_csv('NoFS_mlp_0.7734.csv',index=None)\n",
    "submission.head()"
   ]
  },
  {
   "cell_type": "code",
   "execution_count": 29,
   "metadata": {
    "execution": {
     "iopub.execute_input": "2021-09-21T22:31:42.040985Z",
     "iopub.status.busy": "2021-09-21T22:31:42.040716Z",
     "iopub.status.idle": "2021-09-21T22:33:54.596899Z",
     "shell.execute_reply": "2021-09-21T22:33:54.595134Z",
     "shell.execute_reply.started": "2021-09-21T22:31:42.040957Z"
    }
   },
   "outputs": [],
   "source": [
    "import xgboost as xgb\n",
    "xgb_clf=xgb.XGBClassifier(max_depth=20, n_estimators=80, learning_rate=0.1, colsample_bytree=.7, gamma=.01, reg_alpha=4, objective='multi:softmax',num_class=2)\n",
    "xgb_clf.fit(x_train, y_train)\n",
    "y_pred = xgb_clf.predict(x_test)\n",
    "print(classification_report(y_test, y_pred,digits=4))"
   ]
  },
  {
   "cell_type": "code",
   "execution_count": 30,
   "metadata": {
    "execution": {
     "iopub.execute_input": "2021-09-21T22:34:38.545006Z",
     "iopub.status.busy": "2021-09-21T22:34:38.544704Z",
     "iopub.status.idle": "2021-09-21T22:34:38.691680Z",
     "shell.execute_reply": "2021-09-21T22:34:38.691041Z",
     "shell.execute_reply.started": "2021-09-21T22:34:38.544963Z"
    }
   },
   "outputs": [],
   "source": [
    "s_pred = xgb_clf.predict(x_sub)\n",
    "submission['Real/Fake']=s_pred\n",
    "print(submission['Real/Fake'].value_counts())\n",
    "sub1=submission.drop('text',1)\n",
    "submission=submission.drop('Real/Fake',1)\n",
    "print(sub1.head())\n",
    "sub1.to_csv('NoFS_xgb_0.7858.csv',index=None)\n",
    "submission.head()"
   ]
  },
  {
   "cell_type": "code",
   "execution_count": 31,
   "metadata": {
    "execution": {
     "iopub.execute_input": "2021-09-21T22:34:54.660186Z",
     "iopub.status.busy": "2021-09-21T22:34:54.659838Z",
     "iopub.status.idle": "2021-09-21T22:34:54.670225Z",
     "shell.execute_reply": "2021-09-21T22:34:54.669446Z",
     "shell.execute_reply.started": "2021-09-21T22:34:54.660155Z"
    }
   },
   "outputs": [],
   "source": [
    "from sklearn.ensemble import VotingClassifier\n",
    "from sklearn.neural_network import MLPClassifier\n",
    "from sklearn.linear_model import LogisticRegression\n",
    "from sklearn.svm import LinearSVC,SVC\n",
    "from sklearn.metrics import accuracy_score, confusion_matrix, classification_report, f1_score\n",
    "from sklearn.multiclass import OneVsRestClassifier\n",
    "import xgboost as xgb\n",
    "from sklearn.linear_model import SGDClassifier\n",
    "m1=LogisticRegression(C=20)\n",
    "m2=SVC(kernel='linear',probability=True)\n",
    "m3=RandomForestClassifier(n_estimators=1000)\n",
    "m4=MLPClassifier(hidden_layer_sizes=(150,100,50), max_iter=300,activation = 'relu',solver='adam',random_state=1)\n",
    "m5=xgb_clf=xgb.XGBClassifier(max_depth=20, n_estimators=80, learning_rate=0.1, colsample_bytree=.7, gamma=.01, reg_alpha=4, objective='multi:softmax',num_class=2)"
   ]
  },
  {
   "cell_type": "code",
   "execution_count": 32,
   "metadata": {
    "execution": {
     "iopub.execute_input": "2021-09-21T22:35:13.816992Z",
     "iopub.status.busy": "2021-09-21T22:35:13.816706Z",
     "iopub.status.idle": "2021-09-21T22:42:25.336782Z",
     "shell.execute_reply": "2021-09-21T22:42:25.335162Z",
     "shell.execute_reply.started": "2021-09-21T22:35:13.816961Z"
    }
   },
   "outputs": [],
   "source": [
    "estimators=[('lr', m1), ('lsvm', m2),('rfc', m4),('mlp', m4),('xgb', m5)]\n",
    "clf = VotingClassifier(estimators, voting='soft')\n",
    "clf.fit(x_train, y_train)\n",
    "\n",
    "y_pred = clf.predict(x_test) \n",
    "print(classification_report(y_test, y_pred,digits=4))"
   ]
  },
  {
   "cell_type": "code",
   "execution_count": 33,
   "metadata": {
    "execution": {
     "iopub.execute_input": "2021-09-21T22:42:25.338781Z",
     "iopub.status.busy": "2021-09-21T22:42:25.338538Z",
     "iopub.status.idle": "2021-09-21T22:42:29.906552Z",
     "shell.execute_reply": "2021-09-21T22:42:29.905793Z",
     "shell.execute_reply.started": "2021-09-21T22:42:25.338748Z"
    }
   },
   "outputs": [],
   "source": [
    "s_pred = clf.predict(x_sub)\n",
    "submission['Real/Fake']=s_pred\n",
    "print(submission['Real/Fake'].value_counts())\n",
    "sub1=submission.drop('text',1)\n",
    "submission=submission.drop('Real/Fake',1)\n",
    "print(sub1.head())\n",
    "sub1.to_csv('NoFS_soft_ensemble.csv',index=None)\n",
    "submission.head()"
   ]
  },
  {
   "cell_type": "code",
   "execution_count": 34,
   "metadata": {
    "execution": {
     "iopub.execute_input": "2021-09-21T22:42:29.908093Z",
     "iopub.status.busy": "2021-09-21T22:42:29.907760Z",
     "iopub.status.idle": "2021-09-21T22:49:43.784497Z",
     "shell.execute_reply": "2021-09-21T22:49:43.783660Z",
     "shell.execute_reply.started": "2021-09-21T22:42:29.908060Z"
    }
   },
   "outputs": [],
   "source": [
    "estimators=[('lr', m1), ('lsvm', m2),('rfc', m4),('mlp', m4),('xgb', m5)]\n",
    "clf = VotingClassifier(estimators, voting='hard')\n",
    "clf.fit(x_train, y_train)\n",
    "\n",
    "y_pred = clf.predict(x_test) \n",
    "print(classification_report(y_test, y_pred,digits=4))"
   ]
  },
  {
   "cell_type": "code",
   "execution_count": 35,
   "metadata": {
    "execution": {
     "iopub.execute_input": "2021-09-21T22:49:43.786729Z",
     "iopub.status.busy": "2021-09-21T22:49:43.786492Z",
     "iopub.status.idle": "2021-09-21T22:49:48.288403Z",
     "shell.execute_reply": "2021-09-21T22:49:48.287711Z",
     "shell.execute_reply.started": "2021-09-21T22:49:43.786697Z"
    }
   },
   "outputs": [],
   "source": [
    "s_pred = clf.predict(x_sub)\n",
    "submission['Real/Fake']=s_pred\n",
    "print(submission['Real/Fake'].value_counts())\n",
    "sub1=submission.drop('text',1)\n",
    "submission=submission.drop('Real/Fake',1)\n",
    "print(sub1.head())\n",
    "sub1.to_csv('NoFS_hard_ensemble.csv',index=None)\n",
    "submission.head()"
   ]
  },
  {
   "cell_type": "code",
   "execution_count": 36,
   "metadata": {
    "execution": {
     "iopub.execute_input": "2021-09-21T22:49:48.290039Z",
     "iopub.status.busy": "2021-09-21T22:49:48.289642Z",
     "iopub.status.idle": "2021-09-21T22:49:48.522192Z",
     "shell.execute_reply": "2021-09-21T22:49:48.521424Z",
     "shell.execute_reply.started": "2021-09-21T22:49:48.290005Z"
    }
   },
   "outputs": [],
   "source": [
    "Xw=train_word_features\n",
    "Xw=Xw.toarray()"
   ]
  },
  {
   "cell_type": "code",
   "execution_count": 37,
   "metadata": {
    "execution": {
     "iopub.execute_input": "2021-09-21T22:49:48.523778Z",
     "iopub.status.busy": "2021-09-21T22:49:48.523509Z",
     "iopub.status.idle": "2021-09-21T22:49:48.599853Z",
     "shell.execute_reply": "2021-09-21T22:49:48.599030Z",
     "shell.execute_reply.started": "2021-09-21T22:49:48.523744Z"
    }
   },
   "outputs": [],
   "source": [
    "df1=pd.DataFrame(Xw,columns=word_vectorizer.get_feature_names())\n",
    "df1.head()"
   ]
  },
  {
   "cell_type": "code",
   "execution_count": 38,
   "metadata": {
    "execution": {
     "iopub.execute_input": "2021-09-21T22:49:48.601525Z",
     "iopub.status.busy": "2021-09-21T22:49:48.601240Z",
     "iopub.status.idle": "2021-09-21T23:00:18.690745Z",
     "shell.execute_reply": "2021-09-21T23:00:18.689767Z",
     "shell.execute_reply.started": "2021-09-21T22:49:48.601490Z"
    }
   },
   "outputs": [],
   "source": [
    "import numpy as np\n",
    "from sklearn.preprocessing import LabelBinarizer\n",
    "from sklearn.feature_selection import chi2\n",
    "from sklearn.feature_selection import mutual_info_classif\n",
    "from sklearn.feature_selection import f_classif\n",
    "import argparse\n",
    "import os  \n",
    "import codecs\n",
    "from collections import defaultdict\n",
    "from nltk.tokenize import TweetTokenizer\n",
    "from sklearn.feature_extraction.text import TfidfVectorizer, CountVectorizer  \n",
    "import pickle\n",
    "from sklearn import preprocessing\n",
    "from gensim.models.doc2vec import Doc2Vec, TaggedDocument\n",
    "from tqdm import tqdm\n",
    "from sklearn.linear_model import LogisticRegression\n",
    "from sklearn.svm import LinearSVC \n",
    "from sklearn.feature_selection import chi2\n",
    "from sklearn.feature_selection import mutual_info_classif\n",
    "from sklearn.feature_selection import f_classif\n",
    "import pandas as pd\n",
    "import numpy\n",
    "import scipy.sparse\n",
    "\n",
    "#definig variables\n",
    "y = y_train\n",
    "features=df1.columns\n",
    "feat=[]\n",
    "chi2_val=[]\n",
    "mi_val=[]\n",
    "f_val=[]\n",
    "f_size=15000\n",
    "\n",
    "#Feature selection method using classifiers\n",
    "c=chi2(Xw,y)\n",
    "mi=mutual_info_classif(Xw, y, discrete_features='auto', n_neighbors=4, copy=True, random_state=None)\n",
    "f1=f_classif(Xw,y)\n",
    "\n",
    "#converting FS to Dataframe\n",
    "c=pd.Series(c[0], index=df1.columns)\n",
    "mi=pd.Series(mi,index=df1.columns)\n",
    "f=pd.Series(f1[0],index=df1.columns)\n",
    "\n",
    "\n",
    "#Assining coressponding feature to its values\n",
    "for i in range(len(features)):\n",
    "    feat.append(features[i])\n",
    "    chi2_val.append(c[i])\n",
    "    mi_val.append(mi[i])\n",
    "    f_val.append(f[i])\n",
    "    \n",
    "#Arranging in assending order    \n",
    "dic={'features':features,'chi_2_values':chi2_val}\n",
    "chi2_tab=pd.DataFrame(dic)\n",
    "chi2_tab.sort_values('chi_2_values', inplace=True, ascending=False)\n",
    "chi2_tab_rl=chi2_tab.head(f_size)\n",
    "\n",
    "dic1={'features':features,'mi_values':mi_val}\n",
    "mi_tab=pd.DataFrame(dic1)\n",
    "mi_tab.sort_values('mi_values', inplace=True, ascending=False)\n",
    "mi_tab_rl=mi_tab.head(f_size)\n",
    "\n",
    "\n",
    "dic2={'features':features,'f_values':f_val}\n",
    "f_tab=pd.DataFrame(dic2)\n",
    "f_tab.sort_values('f_values', inplace=True, ascending=False)\n",
    "f_tab_rl=f_tab.head(f_size)\n",
    "\n",
    "#selecting ranklist\n",
    "chi2_rl=list(chi2_tab_rl['features'])\n",
    "mi_rl=list(mi_tab_rl['features'])\n",
    "f_rl=list(f_tab_rl['features'])\n",
    "rank_list=chi2_rl+mi_rl+f_rl\n",
    "\n",
    "\n",
    "rl={}\n",
    "for i in range(len(rank_list)):\n",
    "    for j in df1.columns:\n",
    "        if  rank_list[i]==j:\n",
    "            rl.__setitem__(rank_list[i],df1[j])\n",
    "rl_tf_idf=pd.DataFrame(rl)\n",
    "rl_tf_idf\n"
   ]
  },
  {
   "cell_type": "code",
   "execution_count": null,
   "metadata": {},
   "outputs": [],
   "source": []
  },
  {
   "cell_type": "code",
   "execution_count": 39,
   "metadata": {
    "execution": {
     "iopub.execute_input": "2021-09-21T23:00:18.692434Z",
     "iopub.status.busy": "2021-09-21T23:00:18.692102Z",
     "iopub.status.idle": "2021-09-21T23:00:18.696408Z",
     "shell.execute_reply": "2021-09-21T23:00:18.695675Z",
     "shell.execute_reply.started": "2021-09-21T23:00:18.692397Z"
    }
   },
   "outputs": [],
   "source": [
    "wordNew=rl_tf_idf"
   ]
  },
  {
   "cell_type": "code",
   "execution_count": 40,
   "metadata": {
    "execution": {
     "iopub.execute_input": "2021-09-21T23:00:18.698329Z",
     "iopub.status.busy": "2021-09-21T23:00:18.697825Z",
     "iopub.status.idle": "2021-09-21T23:00:19.034652Z",
     "shell.execute_reply": "2021-09-21T23:00:19.033839Z",
     "shell.execute_reply.started": "2021-09-21T23:00:18.698293Z"
    }
   },
   "outputs": [],
   "source": [
    "Xc=train_char_features\n",
    "Xc=Xc.toarray()\n",
    "df2=pd.DataFrame(Xc,columns=char_vectorizer.get_feature_names())\n",
    "df2.head()"
   ]
  },
  {
   "cell_type": "code",
   "execution_count": 41,
   "metadata": {
    "execution": {
     "iopub.execute_input": "2021-09-21T23:00:19.037750Z",
     "iopub.status.busy": "2021-09-21T23:00:19.037264Z",
     "iopub.status.idle": "2021-09-21T23:10:56.039351Z",
     "shell.execute_reply": "2021-09-21T23:10:56.038460Z",
     "shell.execute_reply.started": "2021-09-21T23:00:19.037711Z"
    }
   },
   "outputs": [],
   "source": [
    "import numpy as np\n",
    "from sklearn.preprocessing import LabelBinarizer\n",
    "from sklearn.feature_selection import chi2\n",
    "from sklearn.feature_selection import mutual_info_classif\n",
    "from sklearn.feature_selection import f_classif\n",
    "import argparse\n",
    "import os  \n",
    "import codecs\n",
    "from collections import defaultdict\n",
    "from nltk.tokenize import TweetTokenizer\n",
    "from sklearn.feature_extraction.text import TfidfVectorizer, CountVectorizer  \n",
    "import pickle\n",
    "from sklearn import preprocessing\n",
    "from gensim.models.doc2vec import Doc2Vec, TaggedDocument\n",
    "from tqdm import tqdm\n",
    "from sklearn.linear_model import LogisticRegression\n",
    "from sklearn.svm import LinearSVC \n",
    "from sklearn.feature_selection import chi2\n",
    "from sklearn.feature_selection import mutual_info_classif\n",
    "from sklearn.feature_selection import f_classif\n",
    "import pandas as pd\n",
    "import numpy\n",
    "import scipy.sparse\n",
    "\n",
    "#definig variables\n",
    "y = y_train\n",
    "features=df2.columns\n",
    "feat=[]\n",
    "chi2_val=[]\n",
    "mi_val=[]\n",
    "f_val=[]\n",
    "f_size=15000\n",
    "\n",
    "#Feature selection method using classifiers\n",
    "c=chi2(Xc,y)\n",
    "mi=mutual_info_classif(Xc, y, discrete_features='auto', n_neighbors=4, copy=True, random_state=None)\n",
    "f1=f_classif(Xc,y)\n",
    "\n",
    "#converting FS to Dataframe\n",
    "c=pd.Series(c[0], index=df2.columns)\n",
    "mi=pd.Series(mi,index=df2.columns)\n",
    "f=pd.Series(f1[0],index=df2.columns)\n",
    "\n",
    "\n",
    "#Assining coressponding feature to its values\n",
    "for i in range(len(features)):\n",
    "    feat.append(features[i])\n",
    "    chi2_val.append(c[i])\n",
    "    mi_val.append(mi[i])\n",
    "    f_val.append(f[i])\n",
    "    \n",
    "#Arranging in assending order    \n",
    "dic={'features':features,'chi_2_values':chi2_val}\n",
    "chi2_tab=pd.DataFrame(dic)\n",
    "chi2_tab.sort_values('chi_2_values', inplace=True, ascending=False)\n",
    "chi2_tab_rl=chi2_tab.head(f_size)\n",
    "\n",
    "dic1={'features':features,'mi_values':mi_val}\n",
    "mi_tab=pd.DataFrame(dic1)\n",
    "mi_tab.sort_values('mi_values', inplace=True, ascending=False)\n",
    "mi_tab_rl=mi_tab.head(f_size)\n",
    "\n",
    "\n",
    "dic2={'features':features,'f_values':f_val}\n",
    "f_tab=pd.DataFrame(dic2)\n",
    "f_tab.sort_values('f_values', inplace=True, ascending=False)\n",
    "f_tab_rl=f_tab.head(f_size)\n",
    "\n",
    "#selecting ranklist\n",
    "chi2_rl=list(chi2_tab_rl['features'])\n",
    "mi_rl=list(mi_tab_rl['features'])\n",
    "f_rl=list(f_tab_rl['features'])\n",
    "rank_list=chi2_rl+mi_rl+f_rl\n",
    "\n",
    "\n",
    "rl={}\n",
    "for i in range(len(rank_list)):\n",
    "    for j in df2.columns:\n",
    "        if  rank_list[i]==j:\n",
    "            rl.__setitem__(rank_list[i],df2[j])\n",
    "rl_tf_idf=pd.DataFrame(rl)\n",
    "rl_tf_idf\n"
   ]
  },
  {
   "cell_type": "code",
   "execution_count": 42,
   "metadata": {
    "execution": {
     "iopub.execute_input": "2021-09-21T23:10:56.040907Z",
     "iopub.status.busy": "2021-09-21T23:10:56.040572Z",
     "iopub.status.idle": "2021-09-21T23:10:56.044591Z",
     "shell.execute_reply": "2021-09-21T23:10:56.043894Z",
     "shell.execute_reply.started": "2021-09-21T23:10:56.040871Z"
    }
   },
   "outputs": [],
   "source": [
    "charNew=rl_tf_idf"
   ]
  },
  {
   "cell_type": "code",
   "execution_count": 43,
   "metadata": {
    "execution": {
     "iopub.execute_input": "2021-09-21T23:10:56.046448Z",
     "iopub.status.busy": "2021-09-21T23:10:56.045927Z",
     "iopub.status.idle": "2021-09-21T23:11:08.959337Z",
     "shell.execute_reply": "2021-09-21T23:11:08.958421Z",
     "shell.execute_reply.started": "2021-09-21T23:10:56.046408Z"
    }
   },
   "outputs": [],
   "source": [
    "sentences=list(data.news)\n",
    "from scipy.sparse import hstack\n",
    "word_vectorizer = TfidfVectorizer(\n",
    "    sublinear_tf=True,\n",
    "    strip_accents='unicode',\n",
    "    analyzer='word',\n",
    "    ngram_range=(1, 3),\n",
    "    vocabulary=wordNew)\n",
    "word_vectorizer.fit(sentences)\n",
    "\n",
    "char_vectorizer = TfidfVectorizer(\n",
    "    sublinear_tf=True,\n",
    "    strip_accents='unicode',\n",
    "    analyzer='char',\n",
    "    ngram_range=(2, 5),\n",
    "    vocabulary=charNew)\n",
    "char_vectorizer.fit(sentences)\n",
    "\n",
    "\n",
    "'''sn_vectorizer = TfidfVectorizer(\n",
    "    sublinear_tf=True,\n",
    "    strip_accents='unicode',\n",
    "    analyzer=get_sngrams,\n",
    "    \n",
    "    max_features=40000)\n",
    "sn_vectorizer.fit(sentences)'''\n",
    "\n",
    "\n",
    "train_word_features = word_vectorizer.transform(data.news)\n",
    "test_word_features = word_vectorizer.transform(test.news)\n",
    "\n",
    "train_char_features = char_vectorizer.transform(data.news)\n",
    "test_char_features = char_vectorizer.transform(test.news)\n",
    "\n",
    "'''train_sn_features = sn_vectorizer.transform(train_en.cleaned)\n",
    "test_sn_features = sn_vectorizer.transform(test_en.cleaned)'''\n",
    "\n",
    "\n",
    "x_train = hstack([train_char_features, train_word_features])#,train_sn_features])\n",
    "x_test = hstack([test_char_features, test_word_features])#,test_sn_features])\n",
    "\n",
    "y_train=data.label\n",
    "y_test=test.label"
   ]
  },
  {
   "cell_type": "code",
   "execution_count": 44,
   "metadata": {
    "execution": {
     "iopub.execute_input": "2021-09-21T23:11:08.960970Z",
     "iopub.status.busy": "2021-09-21T23:11:08.960708Z",
     "iopub.status.idle": "2021-09-21T23:11:10.456755Z",
     "shell.execute_reply": "2021-09-21T23:11:10.456004Z",
     "shell.execute_reply.started": "2021-09-21T23:11:08.960925Z"
    }
   },
   "outputs": [],
   "source": [
    "sub_word_features = word_vectorizer.transform(submission.text)\n",
    "sub_char_features = char_vectorizer.transform(submission.text)\n",
    "x_sub = hstack([sub_char_features, sub_word_features])#,test_sn_features])\n"
   ]
  },
  {
   "cell_type": "code",
   "execution_count": 45,
   "metadata": {
    "execution": {
     "iopub.execute_input": "2021-09-21T23:11:10.458268Z",
     "iopub.status.busy": "2021-09-21T23:11:10.458005Z",
     "iopub.status.idle": "2021-09-21T23:11:11.622766Z",
     "shell.execute_reply": "2021-09-21T23:11:11.621230Z",
     "shell.execute_reply.started": "2021-09-21T23:11:10.458236Z"
    }
   },
   "outputs": [],
   "source": [
    "from sklearn.ensemble import VotingClassifier\n",
    "from sklearn.linear_model import LogisticRegression\n",
    "from sklearn.svm import LinearSVC,SVC\n",
    "from sklearn.metrics import accuracy_score, confusion_matrix, classification_report, f1_score\n",
    "\n",
    "\n",
    "lr=LogisticRegression(C=20)\n",
    "lr.fit(x_train, y_train)\n",
    "y_pred = lr.predict(x_test) \n",
    "print(classification_report(y_test, y_pred,digits=4))"
   ]
  },
  {
   "cell_type": "code",
   "execution_count": 46,
   "metadata": {
    "execution": {
     "iopub.execute_input": "2021-09-21T23:11:27.513503Z",
     "iopub.status.busy": "2021-09-21T23:11:27.513245Z",
     "iopub.status.idle": "2021-09-21T23:11:27.590120Z",
     "shell.execute_reply": "2021-09-21T23:11:27.589269Z",
     "shell.execute_reply.started": "2021-09-21T23:11:27.513476Z"
    }
   },
   "outputs": [],
   "source": [
    "s_pred = lr.predict(x_sub)\n",
    "submission['Real/Fake']=s_pred\n",
    "print(submission['Real/Fake'].value_counts())\n",
    "sub1=submission.drop('text',1)\n",
    "submission=submission.drop('Real/Fake',1)\n",
    "print(sub1.head())\n",
    "sub1.to_csv('FS_LR_0.8007.csv',index=None)\n",
    "submission.head()"
   ]
  },
  {
   "cell_type": "code",
   "execution_count": 47,
   "metadata": {
    "execution": {
     "iopub.execute_input": "2021-09-21T23:11:34.850615Z",
     "iopub.status.busy": "2021-09-21T23:11:34.850036Z",
     "iopub.status.idle": "2021-09-21T23:13:04.725215Z",
     "shell.execute_reply": "2021-09-21T23:13:04.723697Z",
     "shell.execute_reply.started": "2021-09-21T23:11:34.850579Z"
    }
   },
   "outputs": [],
   "source": [
    "svm_clf=SVC(kernel='linear',probability=True)\n",
    "svm_clf.fit(x_train, y_train)\n",
    "y_pred = svm_clf.predict(x_test)\n",
    "print(classification_report(y_test, y_pred,digits=4))"
   ]
  },
  {
   "cell_type": "code",
   "execution_count": 48,
   "metadata": {
    "execution": {
     "iopub.execute_input": "2021-09-21T23:13:27.778638Z",
     "iopub.status.busy": "2021-09-21T23:13:27.778366Z",
     "iopub.status.idle": "2021-09-21T23:13:31.835128Z",
     "shell.execute_reply": "2021-09-21T23:13:31.834444Z",
     "shell.execute_reply.started": "2021-09-21T23:13:27.778609Z"
    }
   },
   "outputs": [],
   "source": [
    "s_pred = svm_clf.predict(x_sub)\n",
    "submission['Real/Fake']=s_pred\n",
    "print(submission['Real/Fake'].value_counts())\n",
    "sub1=submission.drop('text',1)\n",
    "submission=submission.drop('Real/Fake',1)\n",
    "print(sub1.head())\n",
    "sub1.to_csv('FS_LSVM_0.7971.csv',index=None)\n",
    "submission.head()"
   ]
  },
  {
   "cell_type": "code",
   "execution_count": 49,
   "metadata": {
    "execution": {
     "iopub.execute_input": "2021-09-21T23:13:31.836886Z",
     "iopub.status.busy": "2021-09-21T23:13:31.836561Z",
     "iopub.status.idle": "2021-09-21T23:13:51.106525Z",
     "shell.execute_reply": "2021-09-21T23:13:51.105642Z",
     "shell.execute_reply.started": "2021-09-21T23:13:31.836849Z"
    }
   },
   "outputs": [],
   "source": [
    "from sklearn.ensemble import RandomForestClassifier\n",
    "\n",
    "model=RandomForestClassifier(n_estimators=1000)\n",
    "model.fit(x_train, y_train)\n",
    "y_pred = model.predict(x_test)\n",
    "print(classification_report(y_test, y_pred,digits=4))"
   ]
  },
  {
   "cell_type": "code",
   "execution_count": 50,
   "metadata": {
    "execution": {
     "iopub.execute_input": "2021-09-21T23:14:06.598121Z",
     "iopub.status.busy": "2021-09-21T23:14:06.597427Z",
     "iopub.status.idle": "2021-09-21T23:14:08.117615Z",
     "shell.execute_reply": "2021-09-21T23:14:08.116758Z",
     "shell.execute_reply.started": "2021-09-21T23:14:06.598088Z"
    }
   },
   "outputs": [],
   "source": [
    "s_pred = model.predict(x_sub)\n",
    "submission['Real/Fake']=s_pred\n",
    "print(submission['Real/Fake'].value_counts())\n",
    "sub1=submission.drop('text',1)\n",
    "submission=submission.drop('Real/Fake',1)\n",
    "print(sub1.head())\n",
    "sub1.to_csv('FS_RFC_0.7440.csv',index=None)\n",
    "submission.head()"
   ]
  },
  {
   "cell_type": "code",
   "execution_count": 51,
   "metadata": {
    "execution": {
     "iopub.execute_input": "2021-09-21T23:14:11.493887Z",
     "iopub.status.busy": "2021-09-21T23:14:11.493309Z",
     "iopub.status.idle": "2021-09-21T23:15:25.031010Z",
     "shell.execute_reply": "2021-09-21T23:15:25.030238Z",
     "shell.execute_reply.started": "2021-09-21T23:14:11.493851Z"
    }
   },
   "outputs": [],
   "source": [
    "from sklearn.neural_network import MLPClassifier\n",
    "mlp=MLPClassifier(hidden_layer_sizes=(150,100,50), max_iter=300,activation = 'relu',solver='adam',random_state=1)# Again, dual = True. Default solver = 'liblinear'. It's recommended for smaller databases. For bigger databases, 'saga' could be used.\n",
    "mlp.fit(x_train, y_train)\n",
    "y_pred = mlp.predict(x_test)\n",
    "print(classification_report(y_test, y_pred,digits=4))"
   ]
  },
  {
   "cell_type": "code",
   "execution_count": 52,
   "metadata": {
    "execution": {
     "iopub.execute_input": "2021-09-21T23:15:36.260092Z",
     "iopub.status.busy": "2021-09-21T23:15:36.259391Z",
     "iopub.status.idle": "2021-09-21T23:15:36.399670Z",
     "shell.execute_reply": "2021-09-21T23:15:36.398959Z",
     "shell.execute_reply.started": "2021-09-21T23:15:36.260055Z"
    }
   },
   "outputs": [],
   "source": [
    "s_pred = mlp.predict(x_sub)\n",
    "submission['Real/Fake']=s_pred\n",
    "print(submission['Real/Fake'].value_counts())\n",
    "sub1=submission.drop('text',1)\n",
    "submission=submission.drop('Real/Fake',1)\n",
    "print(sub1.head())\n",
    "sub1.to_csv('FS_mlp_0.7641.csv',index=None)\n",
    "submission.head()"
   ]
  },
  {
   "cell_type": "code",
   "execution_count": 53,
   "metadata": {
    "execution": {
     "iopub.execute_input": "2021-09-21T23:15:40.563550Z",
     "iopub.status.busy": "2021-09-21T23:15:40.562839Z",
     "iopub.status.idle": "2021-09-21T23:17:30.433021Z",
     "shell.execute_reply": "2021-09-21T23:17:30.432256Z",
     "shell.execute_reply.started": "2021-09-21T23:15:40.563515Z"
    }
   },
   "outputs": [],
   "source": [
    "import xgboost as xgb\n",
    "xgb_clf=xgb.XGBClassifier(max_depth=20, n_estimators=80, learning_rate=0.1, colsample_bytree=.7, gamma=.01, reg_alpha=4, objective='multi:softmax',num_class=2)\n",
    "xgb_clf.fit(x_train, y_train)\n",
    "y_pred = xgb_clf.predict(x_test)\n",
    "print(classification_report(y_test, y_pred,digits=4))"
   ]
  },
  {
   "cell_type": "code",
   "execution_count": 54,
   "metadata": {
    "execution": {
     "iopub.execute_input": "2021-09-21T23:17:46.028850Z",
     "iopub.status.busy": "2021-09-21T23:17:46.028576Z",
     "iopub.status.idle": "2021-09-21T23:17:46.131091Z",
     "shell.execute_reply": "2021-09-21T23:17:46.130335Z",
     "shell.execute_reply.started": "2021-09-21T23:17:46.028823Z"
    }
   },
   "outputs": [],
   "source": [
    "s_pred = xgb_clf.predict(x_sub)\n",
    "submission['Real/Fake']=s_pred\n",
    "print(submission['Real/Fake'].value_counts())\n",
    "sub1=submission.drop('text',1)\n",
    "submission=submission.drop('Real/Fake',1)\n",
    "print(sub1.head())\n",
    "sub1.to_csv('FS_xgb_0.7931.csv',index=None)\n",
    "submission.head()"
   ]
  },
  {
   "cell_type": "code",
   "execution_count": 55,
   "metadata": {
    "execution": {
     "iopub.execute_input": "2021-09-21T23:17:52.324507Z",
     "iopub.status.busy": "2021-09-21T23:17:52.324253Z",
     "iopub.status.idle": "2021-09-21T23:23:39.900804Z",
     "shell.execute_reply": "2021-09-21T23:23:39.900028Z",
     "shell.execute_reply.started": "2021-09-21T23:17:52.324481Z"
    }
   },
   "outputs": [],
   "source": [
    "estimators=[('lr', m1), ('lsvm', m2),('rfc', m4),('mlp', m4),('xgb', m5)]\n",
    "clf = VotingClassifier(estimators, voting='soft')\n",
    "clf.fit(x_train, y_train)\n",
    "\n",
    "y_pred = clf.predict(x_test) \n",
    "print(classification_report(y_test, y_pred,digits=4))"
   ]
  },
  {
   "cell_type": "code",
   "execution_count": 56,
   "metadata": {
    "execution": {
     "iopub.execute_input": "2021-09-21T23:23:39.903310Z",
     "iopub.status.busy": "2021-09-21T23:23:39.902751Z",
     "iopub.status.idle": "2021-09-21T23:23:44.305683Z",
     "shell.execute_reply": "2021-09-21T23:23:44.304880Z",
     "shell.execute_reply.started": "2021-09-21T23:23:39.903268Z"
    }
   },
   "outputs": [],
   "source": [
    "s_pred = clf.predict(x_sub)\n",
    "submission['Real/Fake']=s_pred\n",
    "print(submission['Real/Fake'].value_counts())\n",
    "sub1=submission.drop('text',1)\n",
    "submission=submission.drop('Real/Fake',1)\n",
    "print(sub1.head())\n",
    "sub1.to_csv('FS_soft_ensemble.csv',index=None)\n",
    "submission.head()"
   ]
  },
  {
   "cell_type": "code",
   "execution_count": 57,
   "metadata": {
    "execution": {
     "iopub.execute_input": "2021-09-21T23:23:44.307704Z",
     "iopub.status.busy": "2021-09-21T23:23:44.307178Z",
     "iopub.status.idle": "2021-09-21T23:29:30.994591Z",
     "shell.execute_reply": "2021-09-21T23:29:30.993916Z",
     "shell.execute_reply.started": "2021-09-21T23:23:44.307662Z"
    }
   },
   "outputs": [],
   "source": [
    "estimators=[('lr', m1), ('lsvm', m2),('rfc', m4),('mlp', m4),('xgb', m5)]\n",
    "clf = VotingClassifier(estimators, voting='hard')\n",
    "clf.fit(x_train, y_train)\n",
    "\n",
    "y_pred = clf.predict(x_test) \n",
    "print(classification_report(y_test, y_pred,digits=4))"
   ]
  },
  {
   "cell_type": "code",
   "execution_count": 58,
   "metadata": {
    "execution": {
     "iopub.execute_input": "2021-09-21T23:29:31.000884Z",
     "iopub.status.busy": "2021-09-21T23:29:30.998919Z",
     "iopub.status.idle": "2021-09-21T23:29:35.479530Z",
     "shell.execute_reply": "2021-09-21T23:29:35.478840Z",
     "shell.execute_reply.started": "2021-09-21T23:29:31.000845Z"
    }
   },
   "outputs": [],
   "source": [
    "s_pred = clf.predict(x_sub)\n",
    "submission['Real/Fake']=s_pred\n",
    "print(submission['Real/Fake'].value_counts())\n",
    "sub1=submission.drop('text',1)\n",
    "submission=submission.drop('Real/Fake',1)\n",
    "print(sub1.head())\n",
    "sub1.to_csv('FS_hard_ensemble.csv',index=None)\n",
    "submission.head()"
   ]
  },
  {
   "cell_type": "code",
   "execution_count": null,
   "metadata": {},
   "outputs": [],
   "source": []
  }
 ],
 "metadata": {
  "kernelspec": {
   "display_name": "Python 3",
   "language": "python",
   "name": "python3"
  },
  "language_info": {
   "codemirror_mode": {
    "name": "ipython",
    "version": 3
   },
   "file_extension": ".py",
   "mimetype": "text/x-python",
   "name": "python",
   "nbconvert_exporter": "python",
   "pygments_lexer": "ipython3",
   "version": "3.7.3"
  }
 },
 "nbformat": 4,
 "nbformat_minor": 4
}
